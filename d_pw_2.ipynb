{
 "cells": [
  {
   "cell_type": "markdown",
   "id": "0db7cd4e",
   "metadata": {},
   "source": [
    "Задание №1."
   ]
  },
  {
   "cell_type": "code",
   "execution_count": 3,
   "id": "dcb4ad4f",
   "metadata": {},
   "outputs": [],
   "source": [
    "import pandas as pd\n",
    "import requests\n",
    "import re\n",
    "from bs4 import BeautifulSoup as bs"
   ]
  },
  {
   "cell_type": "code",
   "execution_count": 4,
   "id": "37a469a3",
   "metadata": {},
   "outputs": [],
   "source": [
    "def _parser_hh(vacancy):\n",
    "\n",
    "    vacancy_date = []\n",
    "    params = {\n",
    "        'text': vacancy, \\\n",
    "        'search_field': 'name', \\\n",
    "        'items_on_page': '100', \\\n",
    "        'page': ''\n",
    "    }\n",
    "    \n",
    "    headers = {\n",
    "        'User-Agent': 'Chrome/76.0.3809.100'\n",
    "    }\n",
    "    link = 'https://hh.ru/search/vacancy'\n",
    "    html = requests.get(link, params=params, headers=headers)\n",
    "    \n",
    "    if html.ok:\n",
    "        parsed_html = bs(html.text,'html.parser')\n",
    "        page_block = parsed_html.find('div', {'data-qa': 'pager-block'})\n",
    "        if not page_block:\n",
    "            last_page = '1'\n",
    "        else:\n",
    "            last_page = int(page_block.find_all('a', {'class': 'HH-Pager-Control'})[-2].getText())\n",
    "    \n",
    "    for page in range(0, last_page):\n",
    "        params['page'] = page\n",
    "        html = requests.get(link, params=params, headers=headers)\n",
    "        \n",
    "        if html.ok:\n",
    "            parsed_html = bs(html.text,'html.parser')\n",
    "            vacancy_items = parsed_html.find('div', {'data-qa': 'vacancy-serp__results'}) \\\n",
    "                                        .find_all('div', {'class': 'vacancy-serp-item'})\n",
    "\n",
    "            for item in vacancy_items:\n",
    "                vacancy_date.append(_parser_item_hh(item))\n",
    "                \n",
    "    return vacancy_date"
   ]
  },
  {
   "cell_type": "code",
   "execution_count": 16,
   "id": "ec0efa8d",
   "metadata": {},
   "outputs": [],
   "source": [
    "def _parser_item_hh(item):\n",
    "\n",
    "    vacancy_date = {}\n",
    "    \n",
    "    # Наименование вакансии - vacancy_name\n",
    "    vacancy_name = item.find('div', {'class': 'resume-search-item__name'}) \\\n",
    "                        .getText() \\\n",
    "                        .replace(u'\\xa0', u' ')\n",
    "    \n",
    "    vacancy_date['vacancy_name'] = vacancy_name\n",
    "    \n",
    "    # Название компании - company_name\n",
    "    company_name = item.find('div', {'class': 'vacancy-serp-item__meta-info'}) \\\n",
    "                        .find('a') \\\n",
    "                        .getText()\n",
    "    \n",
    "    vacancy_date['company_name'] = company_name\n",
    "    \n",
    "    # Город - city\n",
    "    city = item.find('span', {'class': 'vacancy-serp-item__meta-info'}) \\\n",
    "                .getText() \\\n",
    "                .split(', ')[0]\n",
    "    \n",
    "    vacancy_date['city'] = city\n",
    "    \n",
    "    # Предлагаемую зарплату (разносим в три поля: минимальная и максимальная и валюта, цифры преобразуем к цифрам) - salary\n",
    "    salary = item.find('div', {'class': 'vacancy-serp-item__compensation'})\n",
    "    if not salary:\n",
    "        salary_min = None\n",
    "        salary_max = None\n",
    "        salary_currency = None\n",
    "    else:\n",
    "        salary = salary.getText() \\\n",
    "                        .replace(u'\\xa0', u'')\n",
    "        \n",
    "        salary = re.split(r'\\s|-', salary)\n",
    "        \n",
    "        if salary[0] == 'до':\n",
    "            salary_min = None\n",
    "            salary_max = int(salary[1])\n",
    "        elif salary[0] == 'от':\n",
    "            salary_min = int(salary[1])\n",
    "            salary_max = None\n",
    "        else:\n",
    "            salary_min = int(salary[0])\n",
    "            salary_max = int(salary[1])            \n",
    "        \n",
    "        salary_currency = salary[2]\n",
    "        \n",
    "    vacancy_date['salary_min'] = salary_min\n",
    "    vacancy_date['salary_max'] = salary_max\n",
    "    vacancy_date['salary_currency'] = salary_currency\n",
    "    \n",
    "    # Ссылка на саму вакансию - link\n",
    "    is_ad = item.find('span', {'class': 'vacancy-serp-item__controls-item vacancy-serp-item__controls-item_last'}) \\\n",
    "                .getText()\n",
    "    \n",
    "    vacancy_link = item.find('div', {'class': 'resume-search-item__name'}) \\\n",
    "                        .find('a')['href']\n",
    "    \n",
    "    if is_ad != 'Реклама':\n",
    "        vacancy_link = vacancy_link.split('?')[0]\n",
    "    \n",
    "    vacancy_date['vacancy_link'] = vacancy_link \n",
    "    \n",
    "    # Сайт:    \n",
    "    vacancy_date['site'] = 'hh.ru'\n",
    "    \n",
    "    return vacancy_date"
   ]
  },
  {
   "cell_type": "code",
   "execution_count": 17,
   "id": "95a4d792",
   "metadata": {},
   "outputs": [],
   "source": [
    "def parser_vacancy(vacancy):\n",
    "        \n",
    "    vacancy_date = []\n",
    "    \n",
    "    df = pd.DataFrame(vacancy_date)\n",
    "\n",
    "    return df"
   ]
  },
  {
   "cell_type": "code",
   "execution_count": 24,
   "id": "8d84b5cd",
   "metadata": {},
   "outputs": [],
   "source": [
    "vacancy = 'Python'\n",
    "df = parser_vacancy(vacancy)"
   ]
  },
  {
   "cell_type": "code",
   "execution_count": null,
   "id": "795e24e7",
   "metadata": {},
   "outputs": [],
   "source": [
    "df[13:71]"
   ]
  }
 ],
 "metadata": {
  "kernelspec": {
   "display_name": "Python 3",
   "language": "python",
   "name": "python3"
  },
  "language_info": {
   "codemirror_mode": {
    "name": "ipython",
    "version": 3
   },
   "file_extension": ".py",
   "mimetype": "text/x-python",
   "name": "python",
   "nbconvert_exporter": "python",
   "pygments_lexer": "ipython3",
   "version": "3.8.8"
  }
 },
 "nbformat": 4,
 "nbformat_minor": 5
}
