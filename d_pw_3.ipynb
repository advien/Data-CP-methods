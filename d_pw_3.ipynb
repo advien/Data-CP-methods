{
 "cells": [
  {
   "cell_type": "code",
   "execution_count": null,
   "id": "e93d9511",
   "metadata": {},
   "outputs": [],
   "source": [
    "from pprint import pprint #pretty-print :).\n",
    "from scrapingjob import ScrapingJob"
   ]
  },
  {
   "cell_type": "code",
   "execution_count": null,
   "id": "a415e084",
   "metadata": {},
   "outputs": [],
   "source": [
    "vacancy_db = ScrapingJob('mongodb://172.17.0.2:27017/', 'vacancy', 'vacancy_db')"
   ]
  },
  {
   "cell_type": "code",
   "execution_count": null,
   "id": "49cc8761",
   "metadata": {},
   "outputs": [],
   "source": [
    "vacancy_db.collection.update_one({'vacancy_link': 'https://hh.ru/vacancy/48277579'}, \n",
    "                                 {'$set': {'city':'Псков', 'company_name':'some compary'}})"
   ]
  },
  {
   "cell_type": "code",
   "execution_count": null,
   "id": "9d2066ca",
   "metadata": {},
   "outputs": [],
   "source": [
    "objects = vacancy_db.collection.find().limit(1)\n",
    "for obj in objects:\n",
    "    pprint(obj)"
   ]
  },
  {
   "cell_type": "code",
   "execution_count": null,
   "id": "31f4f7a4",
   "metadata": {},
   "outputs": [],
   "source": [
    "vacancy = 'Python'\n",
    "vacancy_db.search_job(vacancy)"
   ]
  },
  {
   "cell_type": "code",
   "execution_count": null,
   "id": "cd537c76",
   "metadata": {},
   "outputs": [],
   "source": [
    "objects = vacancy_db.collection.find().limit(1)\n",
    "for obj in objects:\n",
    "    pprint(obj)"
   ]
  },
  {
   "cell_type": "markdown",
   "id": "aa30c01f",
   "metadata": {},
   "source": [
    "(дополним код для задания №2)"
   ]
  },
  {
   "cell_type": "code",
   "execution_count": null,
   "id": "b75a76cb",
   "metadata": {},
   "outputs": [],
   "source": [
    "vacancy_db.print_salary(100_000)"
   ]
  }
 ],
 "metadata": {
  "kernelspec": {
   "display_name": "Python 3",
   "language": "python",
   "name": "python3"
  },
  "language_info": {
   "codemirror_mode": {
    "name": "ipython",
    "version": 3
   },
   "file_extension": ".py",
   "mimetype": "text/x-python",
   "name": "python",
   "nbconvert_exporter": "python",
   "pygments_lexer": "ipython3",
   "version": "3.8.8"
  }
 },
 "nbformat": 4,
 "nbformat_minor": 5
}
