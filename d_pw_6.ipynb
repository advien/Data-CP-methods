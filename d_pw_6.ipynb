{
 "cells": [
  {
   "cell_type": "markdown",
   "id": "7d2e1e9a",
   "metadata": {},
   "source": [
    "I вариант\n",
    "1) Доработать паука в имеющемся проекте, чтобы он формировал item по структуре:\n",
    "*Наименование вакансии\n",
    "*Зарплата от\n",
    "*Зарплата до\n",
    "*Ссылку на саму вакансию\n",
    "И складывал все записи в БД(любую)\n",
    "\n",
    "2) Создать в имеющемся проекте второго паука по сбору вакансий с сайта superjob.\n",
    "Паук должен формировать item'ы по аналогичной структуре и складывать данные также в БД"
   ]
  },
  {
   "cell_type": "code",
   "execution_count": null,
   "id": "85607ec5",
   "metadata": {},
   "outputs": [],
   "source": [
    "# runner.py\n",
    "from scrapy.crawler import CrawlerProcess\n",
    "from scrapy.settings import Settings\n",
    "\n",
    "from job_parser import settings\n",
    "from job_parser.spiders.hh_ru import HhRuSpider\n",
    "from job_parser.spiders.superjob_ru import SuperjobRuSpider\n",
    "\n",
    "\n",
    "if __name__ == '__main__':\n",
    "    vacancy = 'Python'\n",
    "\n",
    "    crawler_settings = Settings()\n",
    "    crawler_settings.setmodule(settings)\n",
    "    process = CrawlerProcess(settings=crawler_settings)\n",
    "\n",
    "    process.crawl(HhRuSpider, vacancy=vacancy)\n",
    "    process.crawl(SuperjobRuSpider, vacancy=vacancy)\n",
    "\n",
    "    process.start()"
   ]
  },
  {
   "cell_type": "code",
   "execution_count": null,
   "id": "caf761b2",
   "metadata": {},
   "outputs": [],
   "source": [
    "# scrapy.cfg\n",
    "[settings]\n",
    "default = job_parser.settings\n",
    "\n",
    "[deploy]\n",
    "# url = http://localhost:6800/\n",
    "project = job_parser"
   ]
  }
 ],
 "metadata": {
  "kernelspec": {
   "display_name": "Python 3",
   "language": "python",
   "name": "python3"
  },
  "language_info": {
   "codemirror_mode": {
    "name": "ipython",
    "version": 3
   },
   "file_extension": ".py",
   "mimetype": "text/x-python",
   "name": "python",
   "nbconvert_exporter": "python",
   "pygments_lexer": "ipython3",
   "version": "3.8.8"
  }
 },
 "nbformat": 4,
 "nbformat_minor": 5
}
