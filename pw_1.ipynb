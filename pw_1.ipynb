{
 "cells": [
  {
   "cell_type": "markdown",
   "id": "903c6e04",
   "metadata": {},
   "source": [
    "Задание №1."
   ]
  },
  {
   "cell_type": "code",
   "execution_count": 1,
   "id": "cf0beb6d",
   "metadata": {},
   "outputs": [],
   "source": [
    "import requests\n",
    "import json"
   ]
  },
  {
   "cell_type": "code",
   "execution_count": 5,
   "id": "445e4c74",
   "metadata": {},
   "outputs": [],
   "source": [
    "url = 'https://api.github.com'\n",
    "user = 'advien'"
   ]
  },
  {
   "cell_type": "code",
   "execution_count": 6,
   "id": "2122c12c",
   "metadata": {},
   "outputs": [],
   "source": [
    "req = requests.get(f'{url}/users/{user}/repos')\n",
    "with open('data.json', 'w') as f:\n",
    "\tjson.dump(req.json(), f)"
   ]
  },
  {
   "cell_type": "code",
   "execution_count": 7,
   "id": "e0ba3dfe",
   "metadata": {},
   "outputs": [
    {
     "name": "stdout",
     "output_type": "stream",
     "text": [
      "Data-CP-methods\n",
      "PWs_Python\n",
      "Python_DS\n"
     ]
    }
   ],
   "source": [
    "for i in req.json():\n",
    "\tprint(i['name'])"
   ]
  },
  {
   "cell_type": "markdown",
   "id": "8dc28100",
   "metadata": {},
   "source": [
    "Задание №2."
   ]
  },
  {
   "cell_type": "code",
   "execution_count": 8,
   "id": "2ce9b50d",
   "metadata": {},
   "outputs": [],
   "source": [
    "url = 'https://cloud-api.yandex.net/v1/'\n",
    "token = 'AgAAAAA36-93AAXfhDqmJRBWtk38kNEIyZNsR3M'"
   ]
  },
  {
   "cell_type": "code",
   "execution_count": 9,
   "id": "9c56ad79",
   "metadata": {},
   "outputs": [],
   "source": [
    "headers = {\n",
    "    'Content-Type': 'application/json', \\\n",
    "    'Authorization': token\n",
    "}"
   ]
  },
  {
   "cell_type": "code",
   "execution_count": 10,
   "id": "da096dbe",
   "metadata": {},
   "outputs": [],
   "source": [
    "disk_info = 'disk'\n",
    "folder_info = 'disk/resources'"
   ]
  },
  {
   "cell_type": "code",
   "execution_count": 11,
   "id": "39edddca",
   "metadata": {},
   "outputs": [],
   "source": [
    "disk = requests.get(f'{url}{folder_info}?path=app:/', headers = headers)\n",
    "# С помощью цикла FOR, больше не включённого в код, выведем названия файлов в папке и запишем их.\n",
    "# Пример файлов из папки: Горы.jpg, Море.jpg, Санкт-Петербург.jpg"
   ]
  },
  {
   "cell_type": "code",
   "execution_count": 13,
   "id": "2ff43a1d",
   "metadata": {},
   "outputs": [],
   "source": [
    "with open('disk.json', 'w') as f:\n",
    "    json.dump(disk.json(), f)"
   ]
  }
 ],
 "metadata": {
  "kernelspec": {
   "display_name": "Python 3",
   "language": "python",
   "name": "python3"
  },
  "language_info": {
   "codemirror_mode": {
    "name": "ipython",
    "version": 3
   },
   "file_extension": ".py",
   "mimetype": "text/x-python",
   "name": "python",
   "nbconvert_exporter": "python",
   "pygments_lexer": "ipython3",
   "version": "3.8.8"
  }
 },
 "nbformat": 4,
 "nbformat_minor": 5
}
